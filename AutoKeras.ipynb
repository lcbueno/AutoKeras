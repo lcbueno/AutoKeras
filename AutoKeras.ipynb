{
 "cells": [
  {
   "cell_type": "code",
   "execution_count": 1,
   "metadata": {
    "colab": {
     "base_uri": "https://localhost:8080/"
    },
    "id": "Al9DioULUkwU",
    "outputId": "7b92652a-7b36-4827-c42c-208626435c94"
   },
   "outputs": [
    {
     "name": "stdout",
     "output_type": "stream",
     "text": [
      "Mounted at /content/drive\n"
     ]
    }
   ],
   "source": [
    "from google.colab import drive\n",
    "drive.mount('/content/drive')"
   ]
  },
  {
   "cell_type": "code",
   "execution_count": 3,
   "metadata": {
    "colab": {
     "base_uri": "https://localhost:8080/"
    },
    "id": "H4oeUnBnVDFh",
    "outputId": "0293274c-00b0-4c99-cdab-b3961605603d"
   },
   "outputs": [
    {
     "name": "stdout",
     "output_type": "stream",
     "text": [
      "Collecting autokeras\n",
      "  Downloading autokeras-1.0.19-py3-none-any.whl (162 kB)\n",
      "\u001b[?25l\r",
      "\u001b[K     |██                              | 10 kB 24.4 MB/s eta 0:00:01\r",
      "\u001b[K     |████                            | 20 kB 13.5 MB/s eta 0:00:01\r",
      "\u001b[K     |██████                          | 30 kB 7.6 MB/s eta 0:00:01\r",
      "\u001b[K     |████████                        | 40 kB 4.7 MB/s eta 0:00:01\r",
      "\u001b[K     |██████████                      | 51 kB 4.7 MB/s eta 0:00:01\r",
      "\u001b[K     |████████████                    | 61 kB 5.5 MB/s eta 0:00:01\r",
      "\u001b[K     |██████████████▏                 | 71 kB 6.1 MB/s eta 0:00:01\r",
      "\u001b[K     |████████████████▏               | 81 kB 4.4 MB/s eta 0:00:01\r",
      "\u001b[K     |██████████████████▏             | 92 kB 4.9 MB/s eta 0:00:01\r",
      "\u001b[K     |████████████████████▏           | 102 kB 5.3 MB/s eta 0:00:01\r",
      "\u001b[K     |██████████████████████▏         | 112 kB 5.3 MB/s eta 0:00:01\r",
      "\u001b[K     |████████████████████████▏       | 122 kB 5.3 MB/s eta 0:00:01\r",
      "\u001b[K     |██████████████████████████▎     | 133 kB 5.3 MB/s eta 0:00:01\r",
      "\u001b[K     |████████████████████████████▎   | 143 kB 5.3 MB/s eta 0:00:01\r",
      "\u001b[K     |██████████████████████████████▎ | 153 kB 5.3 MB/s eta 0:00:01\r",
      "\u001b[K     |████████████████████████████████| 162 kB 5.3 MB/s \n",
      "\u001b[?25hRequirement already satisfied: pandas in /usr/local/lib/python3.7/dist-packages (from autokeras) (1.3.5)\n",
      "Requirement already satisfied: tensorflow>=2.8.0 in /usr/local/lib/python3.7/dist-packages (from autokeras) (2.8.0)\n",
      "Collecting keras-tuner>=1.1.0\n",
      "  Downloading keras_tuner-1.1.2-py3-none-any.whl (133 kB)\n",
      "\u001b[K     |████████████████████████████████| 133 kB 37.8 MB/s \n",
      "\u001b[?25hRequirement already satisfied: packaging in /usr/local/lib/python3.7/dist-packages (from autokeras) (21.3)\n",
      "Requirement already satisfied: ipython in /usr/local/lib/python3.7/dist-packages (from keras-tuner>=1.1.0->autokeras) (5.5.0)\n",
      "Requirement already satisfied: tensorboard in /usr/local/lib/python3.7/dist-packages (from keras-tuner>=1.1.0->autokeras) (2.8.0)\n",
      "Collecting kt-legacy\n",
      "  Downloading kt_legacy-1.0.4-py3-none-any.whl (9.6 kB)\n",
      "Requirement already satisfied: numpy in /usr/local/lib/python3.7/dist-packages (from keras-tuner>=1.1.0->autokeras) (1.21.6)\n",
      "Requirement already satisfied: requests in /usr/local/lib/python3.7/dist-packages (from keras-tuner>=1.1.0->autokeras) (2.23.0)\n",
      "Requirement already satisfied: six>=1.12.0 in /usr/local/lib/python3.7/dist-packages (from tensorflow>=2.8.0->autokeras) (1.15.0)\n",
      "Requirement already satisfied: google-pasta>=0.1.1 in /usr/local/lib/python3.7/dist-packages (from tensorflow>=2.8.0->autokeras) (0.2.0)\n",
      "Requirement already satisfied: keras<2.9,>=2.8.0rc0 in /usr/local/lib/python3.7/dist-packages (from tensorflow>=2.8.0->autokeras) (2.8.0)\n",
      "Requirement already satisfied: grpcio<2.0,>=1.24.3 in /usr/local/lib/python3.7/dist-packages (from tensorflow>=2.8.0->autokeras) (1.44.0)\n",
      "Requirement already satisfied: libclang>=9.0.1 in /usr/local/lib/python3.7/dist-packages (from tensorflow>=2.8.0->autokeras) (14.0.1)\n",
      "Requirement already satisfied: opt-einsum>=2.3.2 in /usr/local/lib/python3.7/dist-packages (from tensorflow>=2.8.0->autokeras) (3.3.0)\n",
      "Requirement already satisfied: gast>=0.2.1 in /usr/local/lib/python3.7/dist-packages (from tensorflow>=2.8.0->autokeras) (0.5.3)\n",
      "Requirement already satisfied: typing-extensions>=3.6.6 in /usr/local/lib/python3.7/dist-packages (from tensorflow>=2.8.0->autokeras) (4.2.0)\n",
      "Requirement already satisfied: h5py>=2.9.0 in /usr/local/lib/python3.7/dist-packages (from tensorflow>=2.8.0->autokeras) (3.1.0)\n",
      "Requirement already satisfied: astunparse>=1.6.0 in /usr/local/lib/python3.7/dist-packages (from tensorflow>=2.8.0->autokeras) (1.6.3)\n",
      "Requirement already satisfied: termcolor>=1.1.0 in /usr/local/lib/python3.7/dist-packages (from tensorflow>=2.8.0->autokeras) (1.1.0)\n",
      "Requirement already satisfied: wrapt>=1.11.0 in /usr/local/lib/python3.7/dist-packages (from tensorflow>=2.8.0->autokeras) (1.14.0)\n",
      "Requirement already satisfied: flatbuffers>=1.12 in /usr/local/lib/python3.7/dist-packages (from tensorflow>=2.8.0->autokeras) (2.0)\n",
      "Requirement already satisfied: keras-preprocessing>=1.1.1 in /usr/local/lib/python3.7/dist-packages (from tensorflow>=2.8.0->autokeras) (1.1.2)\n",
      "Requirement already satisfied: absl-py>=0.4.0 in /usr/local/lib/python3.7/dist-packages (from tensorflow>=2.8.0->autokeras) (1.0.0)\n",
      "Requirement already satisfied: protobuf>=3.9.2 in /usr/local/lib/python3.7/dist-packages (from tensorflow>=2.8.0->autokeras) (3.17.3)\n",
      "Requirement already satisfied: setuptools in /usr/local/lib/python3.7/dist-packages (from tensorflow>=2.8.0->autokeras) (57.4.0)\n",
      "Collecting tf-estimator-nightly==2.8.0.dev2021122109\n",
      "  Downloading tf_estimator_nightly-2.8.0.dev2021122109-py2.py3-none-any.whl (462 kB)\n",
      "\u001b[K     |████████████████████████████████| 462 kB 45.4 MB/s \n",
      "\u001b[?25hRequirement already satisfied: tensorflow-io-gcs-filesystem>=0.23.1 in /usr/local/lib/python3.7/dist-packages (from tensorflow>=2.8.0->autokeras) (0.25.0)\n",
      "Requirement already satisfied: wheel<1.0,>=0.23.0 in /usr/local/lib/python3.7/dist-packages (from astunparse>=1.6.0->tensorflow>=2.8.0->autokeras) (0.37.1)\n",
      "Requirement already satisfied: cached-property in /usr/local/lib/python3.7/dist-packages (from h5py>=2.9.0->tensorflow>=2.8.0->autokeras) (1.5.2)\n",
      "Requirement already satisfied: werkzeug>=0.11.15 in /usr/local/lib/python3.7/dist-packages (from tensorboard->keras-tuner>=1.1.0->autokeras) (1.0.1)\n",
      "Requirement already satisfied: google-auth-oauthlib<0.5,>=0.4.1 in /usr/local/lib/python3.7/dist-packages (from tensorboard->keras-tuner>=1.1.0->autokeras) (0.4.6)\n",
      "Requirement already satisfied: tensorboard-data-server<0.7.0,>=0.6.0 in /usr/local/lib/python3.7/dist-packages (from tensorboard->keras-tuner>=1.1.0->autokeras) (0.6.1)\n",
      "Requirement already satisfied: markdown>=2.6.8 in /usr/local/lib/python3.7/dist-packages (from tensorboard->keras-tuner>=1.1.0->autokeras) (3.3.6)\n",
      "Requirement already satisfied: google-auth<3,>=1.6.3 in /usr/local/lib/python3.7/dist-packages (from tensorboard->keras-tuner>=1.1.0->autokeras) (1.35.0)\n",
      "Requirement already satisfied: tensorboard-plugin-wit>=1.6.0 in /usr/local/lib/python3.7/dist-packages (from tensorboard->keras-tuner>=1.1.0->autokeras) (1.8.1)\n",
      "Requirement already satisfied: pyasn1-modules>=0.2.1 in /usr/local/lib/python3.7/dist-packages (from google-auth<3,>=1.6.3->tensorboard->keras-tuner>=1.1.0->autokeras) (0.2.8)\n",
      "Requirement already satisfied: rsa<5,>=3.1.4 in /usr/local/lib/python3.7/dist-packages (from google-auth<3,>=1.6.3->tensorboard->keras-tuner>=1.1.0->autokeras) (4.8)\n",
      "Requirement already satisfied: cachetools<5.0,>=2.0.0 in /usr/local/lib/python3.7/dist-packages (from google-auth<3,>=1.6.3->tensorboard->keras-tuner>=1.1.0->autokeras) (4.2.4)\n",
      "Requirement already satisfied: requests-oauthlib>=0.7.0 in /usr/local/lib/python3.7/dist-packages (from google-auth-oauthlib<0.5,>=0.4.1->tensorboard->keras-tuner>=1.1.0->autokeras) (1.3.1)\n",
      "Requirement already satisfied: importlib-metadata>=4.4 in /usr/local/lib/python3.7/dist-packages (from markdown>=2.6.8->tensorboard->keras-tuner>=1.1.0->autokeras) (4.11.3)\n",
      "Requirement already satisfied: zipp>=0.5 in /usr/local/lib/python3.7/dist-packages (from importlib-metadata>=4.4->markdown>=2.6.8->tensorboard->keras-tuner>=1.1.0->autokeras) (3.8.0)\n",
      "Requirement already satisfied: pyasn1<0.5.0,>=0.4.6 in /usr/local/lib/python3.7/dist-packages (from pyasn1-modules>=0.2.1->google-auth<3,>=1.6.3->tensorboard->keras-tuner>=1.1.0->autokeras) (0.4.8)\n",
      "Requirement already satisfied: certifi>=2017.4.17 in /usr/local/lib/python3.7/dist-packages (from requests->keras-tuner>=1.1.0->autokeras) (2021.10.8)\n",
      "Requirement already satisfied: idna<3,>=2.5 in /usr/local/lib/python3.7/dist-packages (from requests->keras-tuner>=1.1.0->autokeras) (2.10)\n",
      "Requirement already satisfied: chardet<4,>=3.0.2 in /usr/local/lib/python3.7/dist-packages (from requests->keras-tuner>=1.1.0->autokeras) (3.0.4)\n",
      "Requirement already satisfied: urllib3!=1.25.0,!=1.25.1,<1.26,>=1.21.1 in /usr/local/lib/python3.7/dist-packages (from requests->keras-tuner>=1.1.0->autokeras) (1.24.3)\n",
      "Requirement already satisfied: oauthlib>=3.0.0 in /usr/local/lib/python3.7/dist-packages (from requests-oauthlib>=0.7.0->google-auth-oauthlib<0.5,>=0.4.1->tensorboard->keras-tuner>=1.1.0->autokeras) (3.2.0)\n",
      "Requirement already satisfied: traitlets>=4.2 in /usr/local/lib/python3.7/dist-packages (from ipython->keras-tuner>=1.1.0->autokeras) (5.1.1)\n",
      "Requirement already satisfied: simplegeneric>0.8 in /usr/local/lib/python3.7/dist-packages (from ipython->keras-tuner>=1.1.0->autokeras) (0.8.1)\n",
      "Requirement already satisfied: pexpect in /usr/local/lib/python3.7/dist-packages (from ipython->keras-tuner>=1.1.0->autokeras) (4.8.0)\n",
      "Requirement already satisfied: pickleshare in /usr/local/lib/python3.7/dist-packages (from ipython->keras-tuner>=1.1.0->autokeras) (0.7.5)\n",
      "Requirement already satisfied: prompt-toolkit<2.0.0,>=1.0.4 in /usr/local/lib/python3.7/dist-packages (from ipython->keras-tuner>=1.1.0->autokeras) (1.0.18)\n",
      "Requirement already satisfied: decorator in /usr/local/lib/python3.7/dist-packages (from ipython->keras-tuner>=1.1.0->autokeras) (4.4.2)\n",
      "Requirement already satisfied: pygments in /usr/local/lib/python3.7/dist-packages (from ipython->keras-tuner>=1.1.0->autokeras) (2.6.1)\n",
      "Requirement already satisfied: wcwidth in /usr/local/lib/python3.7/dist-packages (from prompt-toolkit<2.0.0,>=1.0.4->ipython->keras-tuner>=1.1.0->autokeras) (0.2.5)\n",
      "Requirement already satisfied: pyparsing!=3.0.5,>=2.0.2 in /usr/local/lib/python3.7/dist-packages (from packaging->autokeras) (3.0.8)\n",
      "Requirement already satisfied: python-dateutil>=2.7.3 in /usr/local/lib/python3.7/dist-packages (from pandas->autokeras) (2.8.2)\n",
      "Requirement already satisfied: pytz>=2017.3 in /usr/local/lib/python3.7/dist-packages (from pandas->autokeras) (2022.1)\n",
      "Requirement already satisfied: ptyprocess>=0.5 in /usr/local/lib/python3.7/dist-packages (from pexpect->ipython->keras-tuner>=1.1.0->autokeras) (0.7.0)\n",
      "Installing collected packages: tf-estimator-nightly, kt-legacy, keras-tuner, autokeras\n",
      "Successfully installed autokeras-1.0.19 keras-tuner-1.1.2 kt-legacy-1.0.4 tf-estimator-nightly-2.8.0.dev2021122109\n"
     ]
    }
   ],
   "source": [
    "pip install autokeras"
   ]
  },
  {
   "cell_type": "code",
   "execution_count": 5,
   "metadata": {
    "id": "y7scemMHUlo_"
   },
   "outputs": [],
   "source": [
    "import autokeras as ak\n",
    "import pandas as pd\n",
    "from sklearn.model_selection import train_test_split"
   ]
  },
  {
   "cell_type": "code",
   "execution_count": 6,
   "metadata": {
    "id": "P35LU-CGU-y6"
   },
   "outputs": [],
   "source": [
    "imp = pd.read_csv('/content/drive/MyDrive/Colab Notebooks/autokeras/Dados/Churn_treino.csv', sep=';')"
   ]
  },
  {
   "cell_type": "code",
   "execution_count": 7,
   "metadata": {
    "colab": {
     "base_uri": "https://localhost:8080/",
     "height": 654
    },
    "id": "GtB9D1RlV_fB",
    "outputId": "8bb48e6e-f8b5-4337-cc6f-c316fd27d931"
   },
   "outputs": [
    {
     "data": {
      "text/html": [
       "\n",
       "  <div id=\"df-503cf27e-c1ac-432d-86e1-c59106155a8d\">\n",
       "    <div class=\"colab-df-container\">\n",
       "      <div>\n",
       "<style scoped>\n",
       "    .dataframe tbody tr th:only-of-type {\n",
       "        vertical-align: middle;\n",
       "    }\n",
       "\n",
       "    .dataframe tbody tr th {\n",
       "        vertical-align: top;\n",
       "    }\n",
       "\n",
       "    .dataframe thead th {\n",
       "        text-align: right;\n",
       "    }\n",
       "</style>\n",
       "<table border=\"1\" class=\"dataframe\">\n",
       "  <thead>\n",
       "    <tr style=\"text-align: right;\">\n",
       "      <th></th>\n",
       "      <th>CreditScore</th>\n",
       "      <th>Geography</th>\n",
       "      <th>Gender</th>\n",
       "      <th>Age</th>\n",
       "      <th>Tenure</th>\n",
       "      <th>Balance</th>\n",
       "      <th>NumOfProducts</th>\n",
       "      <th>HasCrCard</th>\n",
       "      <th>IsActiveMember</th>\n",
       "      <th>EstimatedSalary</th>\n",
       "      <th>Exited</th>\n",
       "    </tr>\n",
       "  </thead>\n",
       "  <tbody>\n",
       "    <tr>\n",
       "      <th>0</th>\n",
       "      <td>619</td>\n",
       "      <td>France</td>\n",
       "      <td>Female</td>\n",
       "      <td>42</td>\n",
       "      <td>2</td>\n",
       "      <td>0</td>\n",
       "      <td>1</td>\n",
       "      <td>1</td>\n",
       "      <td>1</td>\n",
       "      <td>10134888</td>\n",
       "      <td>1</td>\n",
       "    </tr>\n",
       "    <tr>\n",
       "      <th>1</th>\n",
       "      <td>608</td>\n",
       "      <td>Spain</td>\n",
       "      <td>Female</td>\n",
       "      <td>41</td>\n",
       "      <td>1</td>\n",
       "      <td>8380786</td>\n",
       "      <td>1</td>\n",
       "      <td>0</td>\n",
       "      <td>1</td>\n",
       "      <td>11254258</td>\n",
       "      <td>0</td>\n",
       "    </tr>\n",
       "    <tr>\n",
       "      <th>2</th>\n",
       "      <td>502</td>\n",
       "      <td>France</td>\n",
       "      <td>Female</td>\n",
       "      <td>42</td>\n",
       "      <td>8</td>\n",
       "      <td>1596608</td>\n",
       "      <td>3</td>\n",
       "      <td>1</td>\n",
       "      <td>0</td>\n",
       "      <td>11393157</td>\n",
       "      <td>1</td>\n",
       "    </tr>\n",
       "    <tr>\n",
       "      <th>3</th>\n",
       "      <td>699</td>\n",
       "      <td>France</td>\n",
       "      <td>Female</td>\n",
       "      <td>39</td>\n",
       "      <td>1</td>\n",
       "      <td>0</td>\n",
       "      <td>2</td>\n",
       "      <td>0</td>\n",
       "      <td>0</td>\n",
       "      <td>9382663</td>\n",
       "      <td>0</td>\n",
       "    </tr>\n",
       "    <tr>\n",
       "      <th>4</th>\n",
       "      <td>850</td>\n",
       "      <td>Spain</td>\n",
       "      <td>Female</td>\n",
       "      <td>43</td>\n",
       "      <td>2</td>\n",
       "      <td>12551082</td>\n",
       "      <td>1</td>\n",
       "      <td>1</td>\n",
       "      <td>1</td>\n",
       "      <td>790841</td>\n",
       "      <td>0</td>\n",
       "    </tr>\n",
       "    <tr>\n",
       "      <th>...</th>\n",
       "      <td>...</td>\n",
       "      <td>...</td>\n",
       "      <td>...</td>\n",
       "      <td>...</td>\n",
       "      <td>...</td>\n",
       "      <td>...</td>\n",
       "      <td>...</td>\n",
       "      <td>...</td>\n",
       "      <td>...</td>\n",
       "      <td>...</td>\n",
       "      <td>...</td>\n",
       "    </tr>\n",
       "    <tr>\n",
       "      <th>9995</th>\n",
       "      <td>771</td>\n",
       "      <td>France</td>\n",
       "      <td>Male</td>\n",
       "      <td>39</td>\n",
       "      <td>5</td>\n",
       "      <td>0</td>\n",
       "      <td>2</td>\n",
       "      <td>1</td>\n",
       "      <td>0</td>\n",
       "      <td>9627064</td>\n",
       "      <td>0</td>\n",
       "    </tr>\n",
       "    <tr>\n",
       "      <th>9996</th>\n",
       "      <td>516</td>\n",
       "      <td>France</td>\n",
       "      <td>Male</td>\n",
       "      <td>35</td>\n",
       "      <td>10</td>\n",
       "      <td>5736961</td>\n",
       "      <td>1</td>\n",
       "      <td>1</td>\n",
       "      <td>1</td>\n",
       "      <td>10169977</td>\n",
       "      <td>0</td>\n",
       "    </tr>\n",
       "    <tr>\n",
       "      <th>9997</th>\n",
       "      <td>709</td>\n",
       "      <td>France</td>\n",
       "      <td>Female</td>\n",
       "      <td>36</td>\n",
       "      <td>7</td>\n",
       "      <td>0</td>\n",
       "      <td>1</td>\n",
       "      <td>0</td>\n",
       "      <td>1</td>\n",
       "      <td>4208558</td>\n",
       "      <td>1</td>\n",
       "    </tr>\n",
       "    <tr>\n",
       "      <th>9998</th>\n",
       "      <td>772</td>\n",
       "      <td>Germany</td>\n",
       "      <td>Male</td>\n",
       "      <td>42</td>\n",
       "      <td>3</td>\n",
       "      <td>7507531</td>\n",
       "      <td>2</td>\n",
       "      <td>1</td>\n",
       "      <td>0</td>\n",
       "      <td>9288852</td>\n",
       "      <td>1</td>\n",
       "    </tr>\n",
       "    <tr>\n",
       "      <th>9999</th>\n",
       "      <td>792</td>\n",
       "      <td>France</td>\n",
       "      <td>Female</td>\n",
       "      <td>28</td>\n",
       "      <td>4</td>\n",
       "      <td>13014279</td>\n",
       "      <td>1</td>\n",
       "      <td>1</td>\n",
       "      <td>0</td>\n",
       "      <td>3819078</td>\n",
       "      <td>0</td>\n",
       "    </tr>\n",
       "  </tbody>\n",
       "</table>\n",
       "<p>10000 rows × 11 columns</p>\n",
       "</div>\n",
       "      <button class=\"colab-df-convert\" onclick=\"convertToInteractive('df-503cf27e-c1ac-432d-86e1-c59106155a8d')\"\n",
       "              title=\"Convert this dataframe to an interactive table.\"\n",
       "              style=\"display:none;\">\n",
       "        \n",
       "  <svg xmlns=\"http://www.w3.org/2000/svg\" height=\"24px\"viewBox=\"0 0 24 24\"\n",
       "       width=\"24px\">\n",
       "    <path d=\"M0 0h24v24H0V0z\" fill=\"none\"/>\n",
       "    <path d=\"M18.56 5.44l.94 2.06.94-2.06 2.06-.94-2.06-.94-.94-2.06-.94 2.06-2.06.94zm-11 1L8.5 8.5l.94-2.06 2.06-.94-2.06-.94L8.5 2.5l-.94 2.06-2.06.94zm10 10l.94 2.06.94-2.06 2.06-.94-2.06-.94-.94-2.06-.94 2.06-2.06.94z\"/><path d=\"M17.41 7.96l-1.37-1.37c-.4-.4-.92-.59-1.43-.59-.52 0-1.04.2-1.43.59L10.3 9.45l-7.72 7.72c-.78.78-.78 2.05 0 2.83L4 21.41c.39.39.9.59 1.41.59.51 0 1.02-.2 1.41-.59l7.78-7.78 2.81-2.81c.8-.78.8-2.07 0-2.86zM5.41 20L4 18.59l7.72-7.72 1.47 1.35L5.41 20z\"/>\n",
       "  </svg>\n",
       "      </button>\n",
       "      \n",
       "  <style>\n",
       "    .colab-df-container {\n",
       "      display:flex;\n",
       "      flex-wrap:wrap;\n",
       "      gap: 12px;\n",
       "    }\n",
       "\n",
       "    .colab-df-convert {\n",
       "      background-color: #E8F0FE;\n",
       "      border: none;\n",
       "      border-radius: 50%;\n",
       "      cursor: pointer;\n",
       "      display: none;\n",
       "      fill: #1967D2;\n",
       "      height: 32px;\n",
       "      padding: 0 0 0 0;\n",
       "      width: 32px;\n",
       "    }\n",
       "\n",
       "    .colab-df-convert:hover {\n",
       "      background-color: #E2EBFA;\n",
       "      box-shadow: 0px 1px 2px rgba(60, 64, 67, 0.3), 0px 1px 3px 1px rgba(60, 64, 67, 0.15);\n",
       "      fill: #174EA6;\n",
       "    }\n",
       "\n",
       "    [theme=dark] .colab-df-convert {\n",
       "      background-color: #3B4455;\n",
       "      fill: #D2E3FC;\n",
       "    }\n",
       "\n",
       "    [theme=dark] .colab-df-convert:hover {\n",
       "      background-color: #434B5C;\n",
       "      box-shadow: 0px 1px 3px 1px rgba(0, 0, 0, 0.15);\n",
       "      filter: drop-shadow(0px 1px 2px rgba(0, 0, 0, 0.3));\n",
       "      fill: #FFFFFF;\n",
       "    }\n",
       "  </style>\n",
       "\n",
       "      <script>\n",
       "        const buttonEl =\n",
       "          document.querySelector('#df-503cf27e-c1ac-432d-86e1-c59106155a8d button.colab-df-convert');\n",
       "        buttonEl.style.display =\n",
       "          google.colab.kernel.accessAllowed ? 'block' : 'none';\n",
       "\n",
       "        async function convertToInteractive(key) {\n",
       "          const element = document.querySelector('#df-503cf27e-c1ac-432d-86e1-c59106155a8d');\n",
       "          const dataTable =\n",
       "            await google.colab.kernel.invokeFunction('convertToInteractive',\n",
       "                                                     [key], {});\n",
       "          if (!dataTable) return;\n",
       "\n",
       "          const docLinkHtml = 'Like what you see? Visit the ' +\n",
       "            '<a target=\"_blank\" href=https://colab.research.google.com/notebooks/data_table.ipynb>data table notebook</a>'\n",
       "            + ' to learn more about interactive tables.';\n",
       "          element.innerHTML = '';\n",
       "          dataTable['output_type'] = 'display_data';\n",
       "          await google.colab.output.renderOutput(dataTable, element);\n",
       "          const docLink = document.createElement('div');\n",
       "          docLink.innerHTML = docLinkHtml;\n",
       "          element.appendChild(docLink);\n",
       "        }\n",
       "      </script>\n",
       "    </div>\n",
       "  </div>\n",
       "  "
      ],
      "text/plain": [
       "      CreditScore Geography  Gender  Age  Tenure   Balance  NumOfProducts  \\\n",
       "0             619    France  Female   42       2         0              1   \n",
       "1             608     Spain  Female   41       1   8380786              1   \n",
       "2             502    France  Female   42       8   1596608              3   \n",
       "3             699    France  Female   39       1         0              2   \n",
       "4             850     Spain  Female   43       2  12551082              1   \n",
       "...           ...       ...     ...  ...     ...       ...            ...   \n",
       "9995          771    France    Male   39       5         0              2   \n",
       "9996          516    France    Male   35      10   5736961              1   \n",
       "9997          709    France  Female   36       7         0              1   \n",
       "9998          772   Germany    Male   42       3   7507531              2   \n",
       "9999          792    France  Female   28       4  13014279              1   \n",
       "\n",
       "      HasCrCard  IsActiveMember  EstimatedSalary  Exited  \n",
       "0             1               1         10134888       1  \n",
       "1             0               1         11254258       0  \n",
       "2             1               0         11393157       1  \n",
       "3             0               0          9382663       0  \n",
       "4             1               1           790841       0  \n",
       "...         ...             ...              ...     ...  \n",
       "9995          1               0          9627064       0  \n",
       "9996          1               1         10169977       0  \n",
       "9997          0               1          4208558       1  \n",
       "9998          1               0          9288852       1  \n",
       "9999          1               0          3819078       0  \n",
       "\n",
       "[10000 rows x 11 columns]"
      ]
     },
     "execution_count": 7,
     "metadata": {},
     "output_type": "execute_result"
    }
   ],
   "source": [
    "imp"
   ]
  },
  {
   "cell_type": "code",
   "execution_count": 8,
   "metadata": {
    "id": "hBgZOFkIWBLj"
   },
   "outputs": [],
   "source": [
    "X = imp.iloc[:,0:10]\n",
    "y = imp.iloc[:,10]"
   ]
  },
  {
   "cell_type": "code",
   "execution_count": 12,
   "metadata": {
    "colab": {
     "base_uri": "https://localhost:8080/"
    },
    "id": "KnKcrhoAWrJO",
    "outputId": "0bf50503-b720-4fd9-c746-1d8b030ff1aa"
   },
   "outputs": [
    {
     "data": {
      "text/plain": [
       "((10000, 10), (10000,))"
      ]
     },
     "execution_count": 12,
     "metadata": {},
     "output_type": "execute_result"
    }
   ],
   "source": [
    "X.shape, y.shape"
   ]
  },
  {
   "cell_type": "code",
   "execution_count": 13,
   "metadata": {
    "id": "pelsB36FWvQM"
   },
   "outputs": [],
   "source": [
    "X_train, X_test, y_train, y_test = train_test_split(X, y, test_size=0.3, random_state=0)"
   ]
  },
  {
   "cell_type": "code",
   "execution_count": 16,
   "metadata": {
    "colab": {
     "base_uri": "https://localhost:8080/"
    },
    "id": "3TyV5p59XeAq",
    "outputId": "0f05d2fb-c35b-44f9-f317-092dbed120ad"
   },
   "outputs": [
    {
     "data": {
      "text/plain": [
       "((7000, 10), (3000, 10), (7000,), (3000,))"
      ]
     },
     "execution_count": 16,
     "metadata": {},
     "output_type": "execute_result"
    }
   ],
   "source": [
    "X_train.shape, X_test.shape, y_train.shape, y_test.shape"
   ]
  },
  {
   "cell_type": "code",
   "execution_count": 19,
   "metadata": {
    "colab": {
     "base_uri": "https://localhost:8080/"
    },
    "id": "0eO2JrpkXld1",
    "outputId": "03cc51f5-85e5-4f33-b0b5-2dcfd3e2a9f6"
   },
   "outputs": [
    {
     "name": "stdout",
     "output_type": "stream",
     "text": [
      "Trial 10 Complete [00h 00m 21s]\n",
      "val_accuracy: 0.8464912176132202\n",
      "\n",
      "Best val_accuracy So Far: 0.8486841917037964\n",
      "Total elapsed time: 00h 06m 27s\n",
      "INFO:tensorflow:Oracle triggered exit\n",
      "Epoch 1/100\n",
      "219/219 [==============================] - 2s 4ms/step - loss: 0.4277 - accuracy: 0.8226\n",
      "Epoch 2/100\n",
      "219/219 [==============================] - 1s 3ms/step - loss: 0.3903 - accuracy: 0.8341\n",
      "Epoch 3/100\n",
      "219/219 [==============================] - 1s 4ms/step - loss: 0.3836 - accuracy: 0.8380\n",
      "Epoch 4/100\n",
      "219/219 [==============================] - 1s 6ms/step - loss: 0.3802 - accuracy: 0.8401\n",
      "Epoch 5/100\n",
      "219/219 [==============================] - 1s 4ms/step - loss: 0.3757 - accuracy: 0.8404\n",
      "Epoch 6/100\n",
      "219/219 [==============================] - 1s 4ms/step - loss: 0.3733 - accuracy: 0.8441\n",
      "Epoch 7/100\n",
      "219/219 [==============================] - 1s 4ms/step - loss: 0.3705 - accuracy: 0.8443\n",
      "Epoch 8/100\n",
      "219/219 [==============================] - 1s 3ms/step - loss: 0.3679 - accuracy: 0.8469\n",
      "Epoch 9/100\n",
      "219/219 [==============================] - 1s 3ms/step - loss: 0.3660 - accuracy: 0.8479\n",
      "Epoch 10/100\n",
      "219/219 [==============================] - 1s 4ms/step - loss: 0.3630 - accuracy: 0.8483\n",
      "Epoch 11/100\n",
      "219/219 [==============================] - 1s 5ms/step - loss: 0.3622 - accuracy: 0.8514\n",
      "Epoch 12/100\n",
      "219/219 [==============================] - 1s 4ms/step - loss: 0.3595 - accuracy: 0.8494\n",
      "Epoch 13/100\n",
      "219/219 [==============================] - 1s 3ms/step - loss: 0.3580 - accuracy: 0.8483\n",
      "Epoch 14/100\n",
      "219/219 [==============================] - 1s 3ms/step - loss: 0.3572 - accuracy: 0.8490\n",
      "Epoch 15/100\n",
      "219/219 [==============================] - 1s 2ms/step - loss: 0.3545 - accuracy: 0.8510\n",
      "Epoch 16/100\n",
      "219/219 [==============================] - 1s 3ms/step - loss: 0.3536 - accuracy: 0.8501\n",
      "Epoch 17/100\n",
      "219/219 [==============================] - 1s 2ms/step - loss: 0.3519 - accuracy: 0.8529\n",
      "Epoch 18/100\n",
      "219/219 [==============================] - 1s 2ms/step - loss: 0.3497 - accuracy: 0.8549\n",
      "Epoch 19/100\n",
      "219/219 [==============================] - 1s 2ms/step - loss: 0.3480 - accuracy: 0.8517\n",
      "Epoch 20/100\n",
      "219/219 [==============================] - 1s 2ms/step - loss: 0.3464 - accuracy: 0.8541\n",
      "Epoch 21/100\n",
      "219/219 [==============================] - 1s 3ms/step - loss: 0.3463 - accuracy: 0.8531\n",
      "Epoch 22/100\n",
      "219/219 [==============================] - 1s 3ms/step - loss: 0.3430 - accuracy: 0.8543\n",
      "Epoch 23/100\n",
      "219/219 [==============================] - 1s 3ms/step - loss: 0.3403 - accuracy: 0.8543\n",
      "Epoch 24/100\n",
      "219/219 [==============================] - 1s 2ms/step - loss: 0.3404 - accuracy: 0.8541\n",
      "Epoch 25/100\n",
      "219/219 [==============================] - 1s 3ms/step - loss: 0.3372 - accuracy: 0.8546\n",
      "Epoch 26/100\n",
      "219/219 [==============================] - 1s 4ms/step - loss: 0.3361 - accuracy: 0.8581\n",
      "Epoch 27/100\n",
      "219/219 [==============================] - 1s 4ms/step - loss: 0.3340 - accuracy: 0.8583\n",
      "Epoch 28/100\n",
      "219/219 [==============================] - 1s 4ms/step - loss: 0.3310 - accuracy: 0.8590\n",
      "Epoch 29/100\n",
      "219/219 [==============================] - 1s 3ms/step - loss: 0.3326 - accuracy: 0.8594\n",
      "Epoch 30/100\n",
      "219/219 [==============================] - 1s 3ms/step - loss: 0.3293 - accuracy: 0.8576\n",
      "Epoch 31/100\n",
      "219/219 [==============================] - 1s 3ms/step - loss: 0.3276 - accuracy: 0.8606\n",
      "Epoch 32/100\n",
      "219/219 [==============================] - 1s 3ms/step - loss: 0.3256 - accuracy: 0.8613\n",
      "Epoch 33/100\n",
      "219/219 [==============================] - 1s 2ms/step - loss: 0.3269 - accuracy: 0.8603\n",
      "Epoch 34/100\n",
      "219/219 [==============================] - 1s 3ms/step - loss: 0.3244 - accuracy: 0.8594\n",
      "Epoch 35/100\n",
      "219/219 [==============================] - 1s 2ms/step - loss: 0.3251 - accuracy: 0.8616\n",
      "Epoch 36/100\n",
      "219/219 [==============================] - 1s 3ms/step - loss: 0.3244 - accuracy: 0.8620\n",
      "Epoch 37/100\n",
      "219/219 [==============================] - 1s 3ms/step - loss: 0.3212 - accuracy: 0.8627\n",
      "Epoch 38/100\n",
      "219/219 [==============================] - 1s 3ms/step - loss: 0.3204 - accuracy: 0.8614\n",
      "Epoch 39/100\n",
      "219/219 [==============================] - 1s 3ms/step - loss: 0.3238 - accuracy: 0.8603\n",
      "Epoch 40/100\n",
      "219/219 [==============================] - 1s 3ms/step - loss: 0.3192 - accuracy: 0.8614\n",
      "Epoch 41/100\n",
      "219/219 [==============================] - 1s 3ms/step - loss: 0.3198 - accuracy: 0.8636\n",
      "Epoch 42/100\n",
      "219/219 [==============================] - 1s 3ms/step - loss: 0.3153 - accuracy: 0.8633\n",
      "Epoch 43/100\n",
      "219/219 [==============================] - 1s 3ms/step - loss: 0.3147 - accuracy: 0.8616\n",
      "Epoch 44/100\n",
      "219/219 [==============================] - 1s 2ms/step - loss: 0.3141 - accuracy: 0.8587\n",
      "Epoch 45/100\n",
      "219/219 [==============================] - 1s 4ms/step - loss: 0.3149 - accuracy: 0.8621\n",
      "Epoch 46/100\n",
      "219/219 [==============================] - 1s 4ms/step - loss: 0.3114 - accuracy: 0.8639\n",
      "Epoch 47/100\n",
      "219/219 [==============================] - 1s 4ms/step - loss: 0.3095 - accuracy: 0.8629\n",
      "Epoch 48/100\n",
      "219/219 [==============================] - 1s 4ms/step - loss: 0.3094 - accuracy: 0.8660\n",
      "Epoch 49/100\n",
      "219/219 [==============================] - 1s 4ms/step - loss: 0.3066 - accuracy: 0.8670\n",
      "Epoch 50/100\n",
      "219/219 [==============================] - 1s 4ms/step - loss: 0.3046 - accuracy: 0.8651\n",
      "Epoch 51/100\n",
      "219/219 [==============================] - 1s 4ms/step - loss: 0.3032 - accuracy: 0.8649\n",
      "Epoch 52/100\n",
      "219/219 [==============================] - 1s 3ms/step - loss: 0.3064 - accuracy: 0.8620\n",
      "Epoch 53/100\n",
      "219/219 [==============================] - 1s 4ms/step - loss: 0.3047 - accuracy: 0.8650\n",
      "Epoch 54/100\n",
      "219/219 [==============================] - 1s 4ms/step - loss: 0.3043 - accuracy: 0.8657\n",
      "Epoch 55/100\n",
      "219/219 [==============================] - 1s 5ms/step - loss: 0.3015 - accuracy: 0.8646\n",
      "Epoch 56/100\n",
      "219/219 [==============================] - 1s 6ms/step - loss: 0.2986 - accuracy: 0.8679\n",
      "Epoch 57/100\n",
      "219/219 [==============================] - 1s 3ms/step - loss: 0.3034 - accuracy: 0.8656\n",
      "Epoch 58/100\n",
      "219/219 [==============================] - 1s 3ms/step - loss: 0.2993 - accuracy: 0.8677\n",
      "Epoch 59/100\n",
      "219/219 [==============================] - 1s 3ms/step - loss: 0.2989 - accuracy: 0.8663\n",
      "Epoch 60/100\n",
      "219/219 [==============================] - 1s 3ms/step - loss: 0.2962 - accuracy: 0.8686\n",
      "Epoch 61/100\n",
      "219/219 [==============================] - 1s 3ms/step - loss: 0.2956 - accuracy: 0.8701\n",
      "Epoch 62/100\n",
      "219/219 [==============================] - 1s 4ms/step - loss: 0.2984 - accuracy: 0.8684\n",
      "Epoch 63/100\n",
      "219/219 [==============================] - 1s 4ms/step - loss: 0.2936 - accuracy: 0.8724\n",
      "Epoch 64/100\n",
      "219/219 [==============================] - 1s 4ms/step - loss: 0.2987 - accuracy: 0.8671\n",
      "Epoch 65/100\n",
      "219/219 [==============================] - 1s 4ms/step - loss: 0.2945 - accuracy: 0.8690\n",
      "Epoch 66/100\n",
      "219/219 [==============================] - 1s 4ms/step - loss: 0.2900 - accuracy: 0.8720\n",
      "Epoch 67/100\n",
      "219/219 [==============================] - 1s 3ms/step - loss: 0.2894 - accuracy: 0.8710\n",
      "Epoch 68/100\n",
      "219/219 [==============================] - 1s 3ms/step - loss: 0.2880 - accuracy: 0.8719\n",
      "Epoch 69/100\n",
      "219/219 [==============================] - 1s 3ms/step - loss: 0.2882 - accuracy: 0.8717\n",
      "Epoch 70/100\n",
      "219/219 [==============================] - 1s 3ms/step - loss: 0.2874 - accuracy: 0.8749\n",
      "Epoch 71/100\n",
      "219/219 [==============================] - 1s 2ms/step - loss: 0.2884 - accuracy: 0.8741\n",
      "Epoch 72/100\n",
      "219/219 [==============================] - 1s 3ms/step - loss: 0.3006 - accuracy: 0.8671\n",
      "Epoch 73/100\n",
      "219/219 [==============================] - 1s 2ms/step - loss: 0.2920 - accuracy: 0.8711\n",
      "Epoch 74/100\n",
      "219/219 [==============================] - 1s 3ms/step - loss: 0.2882 - accuracy: 0.8724\n",
      "Epoch 75/100\n",
      "219/219 [==============================] - 1s 3ms/step - loss: 0.2879 - accuracy: 0.8763\n",
      "Epoch 76/100\n",
      "219/219 [==============================] - 1s 3ms/step - loss: 0.2843 - accuracy: 0.8753\n",
      "Epoch 77/100\n",
      "219/219 [==============================] - 1s 3ms/step - loss: 0.2826 - accuracy: 0.8770\n",
      "Epoch 78/100\n",
      "219/219 [==============================] - 1s 3ms/step - loss: 0.2891 - accuracy: 0.8729\n",
      "Epoch 79/100\n",
      "219/219 [==============================] - 1s 3ms/step - loss: 0.2871 - accuracy: 0.8717\n",
      "Epoch 80/100\n",
      "219/219 [==============================] - 1s 3ms/step - loss: 0.2840 - accuracy: 0.8743\n",
      "Epoch 81/100\n",
      "219/219 [==============================] - 1s 3ms/step - loss: 0.2855 - accuracy: 0.8741\n",
      "Epoch 82/100\n",
      "219/219 [==============================] - 1s 3ms/step - loss: 0.2823 - accuracy: 0.8740\n",
      "Epoch 83/100\n",
      "219/219 [==============================] - 1s 3ms/step - loss: 0.2853 - accuracy: 0.8741\n",
      "Epoch 84/100\n",
      "219/219 [==============================] - 1s 3ms/step - loss: 0.2817 - accuracy: 0.8756\n",
      "Epoch 85/100\n",
      "219/219 [==============================] - 1s 3ms/step - loss: 0.2828 - accuracy: 0.8757\n",
      "Epoch 86/100\n",
      "219/219 [==============================] - 1s 3ms/step - loss: 0.2759 - accuracy: 0.8763\n",
      "Epoch 87/100\n",
      "219/219 [==============================] - 1s 3ms/step - loss: 0.2919 - accuracy: 0.8697\n",
      "Epoch 88/100\n",
      "219/219 [==============================] - 1s 3ms/step - loss: 0.2801 - accuracy: 0.8744\n",
      "Epoch 89/100\n",
      "219/219 [==============================] - 1s 3ms/step - loss: 0.2753 - accuracy: 0.8766\n",
      "Epoch 90/100\n",
      "219/219 [==============================] - 1s 3ms/step - loss: 0.2844 - accuracy: 0.8746\n",
      "Epoch 91/100\n",
      "219/219 [==============================] - 1s 2ms/step - loss: 0.2742 - accuracy: 0.8761\n",
      "Epoch 92/100\n",
      "219/219 [==============================] - 1s 2ms/step - loss: 0.2809 - accuracy: 0.8746\n",
      "Epoch 93/100\n",
      "219/219 [==============================] - 1s 3ms/step - loss: 0.2781 - accuracy: 0.8740\n",
      "Epoch 94/100\n",
      "219/219 [==============================] - 1s 3ms/step - loss: 0.2758 - accuracy: 0.8776\n",
      "Epoch 95/100\n",
      "219/219 [==============================] - 1s 2ms/step - loss: 0.2768 - accuracy: 0.8776\n",
      "Epoch 96/100\n",
      "219/219 [==============================] - 1s 3ms/step - loss: 0.2782 - accuracy: 0.8753\n",
      "Epoch 97/100\n",
      "219/219 [==============================] - 1s 3ms/step - loss: 0.2734 - accuracy: 0.8779\n",
      "Epoch 98/100\n",
      "219/219 [==============================] - 1s 3ms/step - loss: 0.2729 - accuracy: 0.8760\n",
      "Epoch 99/100\n",
      "219/219 [==============================] - 1s 6ms/step - loss: 0.2747 - accuracy: 0.8770\n",
      "Epoch 100/100\n",
      "219/219 [==============================] - 1s 3ms/step - loss: 0.2843 - accuracy: 0.8743\n",
      "INFO:tensorflow:Assets written to: ./structured_data_classifier/best_model/assets\n"
     ]
    },
    {
     "data": {
      "text/plain": [
       "<keras.callbacks.History at 0x7fc3f568e110>"
      ]
     },
     "execution_count": 19,
     "metadata": {},
     "output_type": "execute_result"
    }
   ],
   "source": [
    "model = ak.StructuredDataClassifier(max_trials=10)\n",
    "model.fit(x = X_train, y = y_train, epochs = 100)"
   ]
  },
  {
   "cell_type": "code",
   "execution_count": 20,
   "metadata": {
    "colab": {
     "base_uri": "https://localhost:8080/"
    },
    "id": "b0wl2umFYXEK",
    "outputId": "0c28b154-96bb-4098-bb75-0d440768cdd7"
   },
   "outputs": [
    {
     "name": "stdout",
     "output_type": "stream",
     "text": [
      "94/94 [==============================] - 0s 2ms/step - loss: 0.6633 - accuracy: 0.8063\n"
     ]
    },
    {
     "data": {
      "text/plain": [
       "[0.663259744644165, 0.8063333630561829]"
      ]
     },
     "execution_count": 20,
     "metadata": {},
     "output_type": "execute_result"
    }
   ],
   "source": [
    "model.evaluate(x=X_test, y = y_test)"
   ]
  },
  {
   "cell_type": "code",
   "execution_count": 21,
   "metadata": {
    "colab": {
     "base_uri": "https://localhost:8080/"
    },
    "id": "_O1F0AR9aCo8",
    "outputId": "6efd4353-1767-4a03-e33c-d9aeee4bd433"
   },
   "outputs": [
    {
     "name": "stderr",
     "output_type": "stream",
     "text": [
      "/usr/local/lib/python3.7/dist-packages/IPython/core/interactiveshell.py:2882: FutureWarning: In a future version of pandas all arguments of read_csv except for the argument 'filepath_or_buffer' will be keyword-only\n",
      "  exec(code_obj, self.user_global_ns, self.user_ns)\n"
     ]
    },
    {
     "name": "stdout",
     "output_type": "stream",
     "text": [
      "1/1 [==============================] - 0s 24ms/step\n"
     ]
    }
   ],
   "source": [
    "forecast = pd.read_csv('/content/drive/MyDrive/Colab Notebooks/autokeras/Dados/Churn_prever.csv', ';')\n",
    "forecast = model.predict(forecast)"
   ]
  },
  {
   "cell_type": "code",
   "execution_count": 22,
   "metadata": {
    "colab": {
     "base_uri": "https://localhost:8080/"
    },
    "id": "ZZXIv4JRa8dQ",
    "outputId": "99692294-de2b-4ed7-9fa4-5c9add224fd1"
   },
   "outputs": [
    {
     "data": {
      "text/plain": [
       "array([[0.],\n",
       "       [0.],\n",
       "       [1.],\n",
       "       [0.],\n",
       "       [0.],\n",
       "       [0.],\n",
       "       [1.],\n",
       "       [0.],\n",
       "       [0.]], dtype=float32)"
      ]
     },
     "execution_count": 22,
     "metadata": {},
     "output_type": "execute_result"
    }
   ],
   "source": [
    "forecast"
   ]
  },
  {
   "cell_type": "code",
   "execution_count": null,
   "metadata": {
    "id": "fDRcyQx6bClF"
   },
   "outputs": [],
   "source": []
  }
 ],
 "metadata": {
  "colab": {
   "collapsed_sections": [],
   "name": "AutoKeras.ipynb",
   "provenance": []
  },
  "kernelspec": {
   "display_name": "Python 3 (ipykernel)",
   "language": "python",
   "name": "python3"
  },
  "language_info": {
   "codemirror_mode": {
    "name": "ipython",
    "version": 3
   },
   "file_extension": ".py",
   "mimetype": "text/x-python",
   "name": "python",
   "nbconvert_exporter": "python",
   "pygments_lexer": "ipython3",
   "version": "3.9.10"
  }
 },
 "nbformat": 4,
 "nbformat_minor": 1
}
